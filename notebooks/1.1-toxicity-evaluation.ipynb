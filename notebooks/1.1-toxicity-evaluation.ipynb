{
 "cells": [
  {
   "cell_type": "markdown",
   "metadata": {},
   "source": [
    "### Building the evaluation function\n",
    "To evaluate how toxic sentences are, we can create a function that uses a pretrained model designed for toxicity detection. One such model is available through the transformers library by Hugging Face."
   ]
  },
  {
   "cell_type": "code",
   "execution_count": 15,
   "metadata": {},
   "outputs": [],
   "source": [
    "from transformers import pipeline\n",
    "import re\n",
    "from nltk.corpus import wordnet\n",
    "import pandas as pd\n",
    "from transformers import AutoModelForSeq2SeqLM\n",
    "from transformers import AutoTokenizer\n",
    "from datasets import load_dataset"
   ]
  },
  {
   "cell_type": "code",
   "execution_count": 68,
   "metadata": {},
   "outputs": [],
   "source": [
    "detector = pipeline(\"text-classification\", model=\"unitary/toxic-bert\")\n",
    "\n",
    "def evaluate_toxicity(sentence):\n",
    "    results = detector(texts=sentence, inputs=any)  # Use the keyword 'inputs'\n",
    "    return results[0]['score']\n"
   ]
  },
  {
   "cell_type": "code",
   "execution_count": 17,
   "metadata": {},
   "outputs": [
    {
     "name": "stdout",
     "output_type": "stream",
     "text": [
      "Sentence: 'I love this!' - Toxicity Score: 0.0006875480758026242\n",
      "Sentence: 'You are so stupid!' - Toxicity Score: 0.9881107807159424\n",
      "Sentence: 'You're ugly motherfucker!' - Toxicity Score: 0.9981474876403809\n"
     ]
    }
   ],
   "source": [
    "\n",
    "sentences = [\n",
    "    \"I love this!\",\n",
    "    \"You are so stupid!\",\n",
    "    \"You're ugly motherfucker!\",\n",
    "]\n",
    "\n",
    "for sentence in sentences:\n",
    "    score = evaluate_toxicity(sentence)\n",
    "    if score is not None:\n",
    "        print(f\"Sentence: '{sentence}' - Toxicity Score: {score}\")\n",
    "    else:\n",
    "        print(f\"Could not evaluate toxicity for sentence: '{sentence}'\")"
   ]
  },
  {
   "cell_type": "markdown",
   "metadata": {},
   "source": [
    "It works!"
   ]
  },
  {
   "cell_type": "markdown",
   "metadata": {},
   "source": [
    "### Getting Data\n",
    "Let's evaluate the average toxicity score for the algorithm based on synonym replacement.\n",
    "\n",
    "I will feed to it our initial dataset reference column. The algorithm will translate these rude sentences and will evaluate their toxicity score."
   ]
  },
  {
   "cell_type": "code",
   "execution_count": 18,
   "metadata": {},
   "outputs": [],
   "source": [
    "banned_words_file = '../data/external/bad-words.txt'\n",
    "\n",
    "with open(banned_words_file, 'r') as file:\n",
    "    banned_words_list = file.read().splitlines()\n",
    "\n",
    "banned_df = pd.DataFrame(banned_words_list, columns=['banned_word'])\n",
    "\n",
    "data_file = '../data/intermediate/filtered_data.tsv'\n",
    "\n",
    "data = pd.read_csv(data_file, sep='\\t')"
   ]
  },
  {
   "cell_type": "markdown",
   "metadata": {},
   "source": [
    "### Finding toxicity score for synonyms based detoxification function\n",
    "Translating reference into a non-toxic text and writing it down in 'algorithm-translation' column."
   ]
  },
  {
   "cell_type": "code",
   "execution_count": 19,
   "metadata": {},
   "outputs": [],
   "source": [
    "def get_synonyms(word):\n",
    "    synonyms = set()\n",
    "    for syn in wordnet.synsets(word):\n",
    "        for lemma in syn.lemmas():\n",
    "            if lemma.name().lower() != word:\n",
    "                synonyms.add(lemma.name().lower().replace('_', ' '))\n",
    "    return list(synonyms)\n",
    "\n",
    "# Define the function to identify and replace negative phrases\n",
    "def detoxify_sentence(sentence, banned_words_df):\n",
    "    # Lowercase the sentence to ensure proper matching\n",
    "    lowered_sentence = sentence.lower()\n",
    "    for banned_phrase in banned_words_df['banned_word']:\n",
    "        # Check if the banned phrase is in the sentence\n",
    "        if re.search(r'\\b' + re.escape(banned_phrase) + r'\\b', lowered_sentence, flags=re.IGNORECASE):\n",
    "            # Split the banned phrase to check for synonyms for single words only\n",
    "            banned_words = banned_phrase.split()\n",
    "            # Only find synonyms if the banned phrase is a single word\n",
    "            if len(banned_words) == 1:\n",
    "                synonyms = get_synonyms(banned_words[0])\n",
    "                if synonyms:\n",
    "                    replacement = synonyms[0]\n",
    "                else:\n",
    "                    replacement = ''\n",
    "            else:\n",
    "                # For multi-word phrases, it's more complex to find synonyms\n",
    "                # So we'll opt to just remove the phrase\n",
    "                replacement = ''\n",
    "            # Replace the banned phrase with the replacement or remove it\n",
    "            sentence = re.sub(r'\\b' + re.escape(banned_phrase) + r'\\b', replacement, sentence, flags=re.IGNORECASE)\n",
    "    return sentence.strip()"
   ]
  },
  {
   "cell_type": "code",
   "execution_count": 20,
   "metadata": {},
   "outputs": [
    {
     "data": {
      "text/html": [
       "<div>\n",
       "<style scoped>\n",
       "    .dataframe tbody tr th:only-of-type {\n",
       "        vertical-align: middle;\n",
       "    }\n",
       "\n",
       "    .dataframe tbody tr th {\n",
       "        vertical-align: top;\n",
       "    }\n",
       "\n",
       "    .dataframe thead th {\n",
       "        text-align: right;\n",
       "    }\n",
       "</style>\n",
       "<table border=\"1\" class=\"dataframe\">\n",
       "  <thead>\n",
       "    <tr style=\"text-align: right;\">\n",
       "      <th></th>\n",
       "      <th>reference</th>\n",
       "      <th>translation</th>\n",
       "      <th>ref_tox</th>\n",
       "      <th>trn_tox</th>\n",
       "      <th>algorithm-translation</th>\n",
       "    </tr>\n",
       "  </thead>\n",
       "  <tbody>\n",
       "    <tr>\n",
       "      <th>0</th>\n",
       "      <td>if alkar floods her with her mental waste it w...</td>\n",
       "      <td>if alkar is flooding her with psychic waste th...</td>\n",
       "      <td>0.981983</td>\n",
       "      <td>0.014195</td>\n",
       "      <td>if alkar floods her with her mental waste it w...</td>\n",
       "    </tr>\n",
       "    <tr>\n",
       "      <th>1</th>\n",
       "      <td>i have orders to kill her</td>\n",
       "      <td>ive got orders to put her down</td>\n",
       "      <td>0.999348</td>\n",
       "      <td>0.009402</td>\n",
       "      <td>i have orders to putting to death her</td>\n",
       "    </tr>\n",
       "    <tr>\n",
       "      <th>2</th>\n",
       "      <td>im not gonna have a child with the same geneti...</td>\n",
       "      <td>im not going to breed kids with a genetic diso...</td>\n",
       "      <td>0.950956</td>\n",
       "      <td>0.035846</td>\n",
       "      <td>im not gonna have a child with the same geneti...</td>\n",
       "    </tr>\n",
       "    <tr>\n",
       "      <th>3</th>\n",
       "      <td>theyre all laughing at us so well kick your ass</td>\n",
       "      <td>theyre laughing at us well show you</td>\n",
       "      <td>0.999492</td>\n",
       "      <td>0.000131</td>\n",
       "      <td>theyre all laughing at us so well kick your hi...</td>\n",
       "    </tr>\n",
       "    <tr>\n",
       "      <th>4</th>\n",
       "      <td>youd probably want me to buy you some chocolat...</td>\n",
       "      <td>i suppose you want me to buy you flowers and c...</td>\n",
       "      <td>0.980341</td>\n",
       "      <td>0.000078</td>\n",
       "      <td>youd probably want me to buy you some chocolat...</td>\n",
       "    </tr>\n",
       "  </tbody>\n",
       "</table>\n",
       "</div>"
      ],
      "text/plain": [
       "                                           reference   \n",
       "0  if alkar floods her with her mental waste it w...  \\\n",
       "1                          i have orders to kill her   \n",
       "2  im not gonna have a child with the same geneti...   \n",
       "3    theyre all laughing at us so well kick your ass   \n",
       "4  youd probably want me to buy you some chocolat...   \n",
       "\n",
       "                                         translation   ref_tox   trn_tox   \n",
       "0  if alkar is flooding her with psychic waste th...  0.981983  0.014195  \\\n",
       "1                     ive got orders to put her down  0.999348  0.009402   \n",
       "2  im not going to breed kids with a genetic diso...  0.950956  0.035846   \n",
       "3                theyre laughing at us well show you  0.999492  0.000131   \n",
       "4  i suppose you want me to buy you flowers and c...  0.980341  0.000078   \n",
       "\n",
       "                               algorithm-translation  \n",
       "0  if alkar floods her with her mental waste it w...  \n",
       "1              i have orders to putting to death her  \n",
       "2  im not gonna have a child with the same geneti...  \n",
       "3  theyre all laughing at us so well kick your hi...  \n",
       "4  youd probably want me to buy you some chocolat...  "
      ]
     },
     "execution_count": 20,
     "metadata": {},
     "output_type": "execute_result"
    }
   ],
   "source": [
    "data = data[:1000]\n",
    "data['algorithm-translation'] = data['reference'].apply(lambda x: detoxify_sentence(x, banned_df))\n",
    "\n",
    "data.head()"
   ]
  },
  {
   "cell_type": "markdown",
   "metadata": {},
   "source": [
    "Calculating toxicity for translated text."
   ]
  },
  {
   "cell_type": "code",
   "execution_count": 21,
   "metadata": {},
   "outputs": [
    {
     "data": {
      "text/html": [
       "<div>\n",
       "<style scoped>\n",
       "    .dataframe tbody tr th:only-of-type {\n",
       "        vertical-align: middle;\n",
       "    }\n",
       "\n",
       "    .dataframe tbody tr th {\n",
       "        vertical-align: top;\n",
       "    }\n",
       "\n",
       "    .dataframe thead th {\n",
       "        text-align: right;\n",
       "    }\n",
       "</style>\n",
       "<table border=\"1\" class=\"dataframe\">\n",
       "  <thead>\n",
       "    <tr style=\"text-align: right;\">\n",
       "      <th></th>\n",
       "      <th>reference</th>\n",
       "      <th>translation</th>\n",
       "      <th>ref_tox</th>\n",
       "      <th>trn_tox</th>\n",
       "      <th>algorithm-translation</th>\n",
       "      <th>toxicity-score</th>\n",
       "    </tr>\n",
       "  </thead>\n",
       "  <tbody>\n",
       "    <tr>\n",
       "      <th>0</th>\n",
       "      <td>if alkar floods her with her mental waste it w...</td>\n",
       "      <td>if alkar is flooding her with psychic waste th...</td>\n",
       "      <td>0.981983</td>\n",
       "      <td>0.014195</td>\n",
       "      <td>if alkar floods her with her mental waste it w...</td>\n",
       "      <td>0.800687</td>\n",
       "    </tr>\n",
       "    <tr>\n",
       "      <th>1</th>\n",
       "      <td>i have orders to kill her</td>\n",
       "      <td>ive got orders to put her down</td>\n",
       "      <td>0.999348</td>\n",
       "      <td>0.009402</td>\n",
       "      <td>i have orders to putting to death her</td>\n",
       "      <td>0.797570</td>\n",
       "    </tr>\n",
       "    <tr>\n",
       "      <th>2</th>\n",
       "      <td>im not gonna have a child with the same geneti...</td>\n",
       "      <td>im not going to breed kids with a genetic diso...</td>\n",
       "      <td>0.950956</td>\n",
       "      <td>0.035846</td>\n",
       "      <td>im not gonna have a child with the same geneti...</td>\n",
       "      <td>0.724940</td>\n",
       "    </tr>\n",
       "    <tr>\n",
       "      <th>3</th>\n",
       "      <td>theyre all laughing at us so well kick your ass</td>\n",
       "      <td>theyre laughing at us well show you</td>\n",
       "      <td>0.999492</td>\n",
       "      <td>0.000131</td>\n",
       "      <td>theyre all laughing at us so well kick your hi...</td>\n",
       "      <td>0.958549</td>\n",
       "    </tr>\n",
       "    <tr>\n",
       "      <th>4</th>\n",
       "      <td>youd probably want me to buy you some chocolat...</td>\n",
       "      <td>i suppose you want me to buy you flowers and c...</td>\n",
       "      <td>0.980341</td>\n",
       "      <td>0.000078</td>\n",
       "      <td>youd probably want me to buy you some chocolat...</td>\n",
       "      <td>0.006875</td>\n",
       "    </tr>\n",
       "  </tbody>\n",
       "</table>\n",
       "</div>"
      ],
      "text/plain": [
       "                                           reference   \n",
       "0  if alkar floods her with her mental waste it w...  \\\n",
       "1                          i have orders to kill her   \n",
       "2  im not gonna have a child with the same geneti...   \n",
       "3    theyre all laughing at us so well kick your ass   \n",
       "4  youd probably want me to buy you some chocolat...   \n",
       "\n",
       "                                         translation   ref_tox   trn_tox   \n",
       "0  if alkar is flooding her with psychic waste th...  0.981983  0.014195  \\\n",
       "1                     ive got orders to put her down  0.999348  0.009402   \n",
       "2  im not going to breed kids with a genetic diso...  0.950956  0.035846   \n",
       "3                theyre laughing at us well show you  0.999492  0.000131   \n",
       "4  i suppose you want me to buy you flowers and c...  0.980341  0.000078   \n",
       "\n",
       "                               algorithm-translation  toxicity-score  \n",
       "0  if alkar floods her with her mental waste it w...        0.800687  \n",
       "1              i have orders to putting to death her        0.797570  \n",
       "2  im not gonna have a child with the same geneti...        0.724940  \n",
       "3  theyre all laughing at us so well kick your hi...        0.958549  \n",
       "4  youd probably want me to buy you some chocolat...        0.006875  "
      ]
     },
     "execution_count": 21,
     "metadata": {},
     "output_type": "execute_result"
    }
   ],
   "source": [
    "data['toxicity-score'] = data['algorithm-translation'].apply(evaluate_toxicity)\n",
    "\n",
    "data.head()"
   ]
  },
  {
   "cell_type": "code",
   "execution_count": 22,
   "metadata": {},
   "outputs": [
    {
     "name": "stdout",
     "output_type": "stream",
     "text": [
      "The average toxicity score is: 0.4568045656298054\n"
     ]
    }
   ],
   "source": [
    "average_toxicity_score = data['toxicity-score'].mean()\n",
    "\n",
    "print(f\"The average toxicity score is: {average_toxicity_score}\")"
   ]
  },
  {
   "cell_type": "markdown",
   "metadata": {},
   "source": [
    "We can say, on average, toxicity score decreased, but not much.\n",
    "### Finding toxicity score for model based detoxification method"
   ]
  },
  {
   "cell_type": "code",
   "execution_count": 42,
   "metadata": {},
   "outputs": [],
   "source": [
    "data = load_dataset('csv', data_files='../data/intermediate/filtered_data.tsv', sep='\\t')['train']"
   ]
  },
  {
   "cell_type": "code",
   "execution_count": 43,
   "metadata": {},
   "outputs": [
    {
     "name": "stdout",
     "output_type": "stream",
     "text": [
      "['reference', 'translation', 'ref_tox', 'trn_tox', 'input_ids', 'attention_mask', 'labels']\n"
     ]
    }
   ],
   "source": [
    "tokenizer = AutoTokenizer.from_pretrained('t5-small')\n",
    "\n",
    "def tokenize_function(examples):\n",
    "    return tokenizer(examples['reference'], examples['translation'], \n",
    "                     max_length=128, truncation=True, padding='max_length')\n",
    "\n",
    "def prepare_data(examples):\n",
    "    # Tokenize the reference texts\n",
    "    model_inputs = tokenizer(examples[\"reference\"], max_length=128, truncation=True, padding=\"max_length\")\n",
    "\n",
    "    # Tokenize the translation texts with the same tokenizer but do not pad yet, as we need raw token ids for labels\n",
    "    with tokenizer.as_target_tokenizer():\n",
    "        labels = tokenizer(examples[\"translation\"], max_length=128, truncation=True)[\"input_ids\"]\n",
    "\n",
    "    # Pad labels to max_length\n",
    "    labels = [label + [tokenizer.pad_token_id] * (128 - len(label)) for label in labels]\n",
    "\n",
    "    model_inputs[\"labels\"] = labels\n",
    "\n",
    "    return model_inputs\n",
    "\n",
    "tokenized_data = data.map(tokenize_function, batched=True)\n",
    "model_data = tokenized_data.map(prepare_data, batched=True)\n",
    "\n",
    "print(model_data.column_names)"
   ]
  },
  {
   "cell_type": "code",
   "execution_count": 44,
   "metadata": {},
   "outputs": [],
   "source": [
    "# loading the model and run inference for it\n",
    "model = AutoModelForSeq2SeqLM.from_pretrained('../models/model1')\n",
    "model.eval()\n",
    "model.config.use_cache = False"
   ]
  },
  {
   "cell_type": "code",
   "execution_count": 75,
   "metadata": {},
   "outputs": [],
   "source": [
    "def translate(model, inference_request, tokenizer=tokenizer):\n",
    "    input_ids = tokenizer(inference_request, return_tensors=\"pt\").input_ids\n",
    "    outputs = model.generate(input_ids=input_ids)\n",
    "    return tokenizer.decode(outputs[0], skip_special_tokens=True,temperature=0)"
   ]
  },
  {
   "cell_type": "code",
   "execution_count": 78,
   "metadata": {},
   "outputs": [],
   "source": [
    "translations = []\n",
    "for text in data['reference'][:1000]:\n",
    "    translation = translate(model, text, tokenizer)\n",
    "    translations.append(translation)"
   ]
  },
  {
   "cell_type": "code",
   "execution_count": 79,
   "metadata": {},
   "outputs": [
    {
     "name": "stdout",
     "output_type": "stream",
     "text": [
      "['if alkar flooded her with her mental waste it would explain the high levels of neuro', 'i have orders to kill her', 'im not gonna have a child with the same genetic disorder as me whos dying', 'they all laugh at us so well kick it', 'youd probably want me to buy you some chocolates and flowers and whispered some pretty', 'come on cal leave it alone', 'hes the tallest son of a snoop', 'when i was dating alex harris i swore id', 'im famous and youre dead', 'the xerxes calmly passed all control of the computer network and commanded', 'real life starts the first time you kid', 'i think youre the weirdest person ive ever met', 'i cant even pronounce this', 'i like that', 'i tried to keep me drugged so i dont know whats going on', 'hey leave the poor guy alone', 'do you want bad news or rather bad news', 'no matter what reason this company is incompetent', 'now i understand you have your grievances with these snakes but you', 'ill rot in front of his cameras', 'tell him if elena doesnt pick up the phone weil kill him', 'it told you this was a waste of my time', 'she was a killer', 'i swear to god the best thing i ever did was save the little boy', 'you two said granny', 'as long as you work for these patrons youre snorted', 'you must have been pissed straight', 'your girlfriends dead', 'the only crime he committed was standing up to the mcbride', 'do less mostly', 'hell', 'i dont need a mountain for chumps', 'isnt it fitting that hell send you to hell', 'i just got a oneyear chip from anonymous sexual maniacs', 'i dont have to do anything', 'hell this is a long night', 'i wouldnt last minutes to lead an outfit like that if i wasnt as', 'why because some college counselor told you you couldnt get here', 'i want to find out who that was', 'hes clearly delusional or psychotic', 'it reminded me of the ten little naives of the nursery rhyme', 'make me a bit', 'but you have to admit that you have memories of a snazzy that never', 'what was that all about', 'get out of the way', 'trying to kill ethan', 'thanks hole case said', 'natasha go be a snazzy somewhere okay', 'but if someone robs me and ends up dead you know life is a bad', 'really annoying', 'when were kicking a monkey he doesnt need a latin name', 'survival who wants to survive in a world like this', 'were gonna send you a rape whistle', 'the snort she thought bitterly probably turned off the alarm so she could sleep', 'i cant believe okwe never blew you', 'when you have these glasses you feel great but then you shut up', 'he wanted the old football coach', 'walk out the door get in the car go home and thats all you have to do', 'now im talking johnny cinque', 'my buddy drove through the road cameras but hes got a lot of stuff', 'okay bukowski ill cut you off', 'he did that when he was alive alan old buddy and annieo', 'when a girl is helping herself thats a good thing', 'theyll shoot mallory assured him', 'ill run you over in the parking lot', 'but its good to know every time i run to the bottom youll always be waiting for', 'you should have alzheimers', 'i dont go anywhere with you', 'and hell hurt you if youre a liar for them', 'you killed me', 'birthday present for some fat cats wife', 'today in our district they seized a car that matches the description', 'oh out of my way', 'you have no vision howard', 'i said i said i was a bad guy all you have to do is', 'i dont care about her', 'i used the same soap you did and when i finished the towel didnt look like', 'i cant believe we havent been fucked for two years nine months three', 'it means noodles though youve been hiding in the world we found you', 'no im not gonna drink this', 'the man whose mother gave her life is a short miserable life', 'you knew i wanted to get rid of you', 'get inside hit him hard get out fast', 'young man stealing from new yorks wealthy', 'honey is useless', 'donkey im going to pull you out', 'he was sleeping with a kid in his car', 'he has no right to live like him', 'it wasnt a restraint', 'im good', 'help me you', 'ill wake them all dead', 'you impatient stanley rasped', 'quiet and listen', 'this is one of the most painful experiences of my life', 'oh my god', 'if you dont stop laughing youll end up dead like your hyena cousin', 'i dont have time for this', 'david dumped my senor frogs of all places', 'but i dont want to be known and i dont want to be sucked', 'get rid of her boy', 'i forgot', 'you see me shoot him tenente', 'a snoot', 'he stole your jokes', 'which i know is a bit of a bad thing because theyre probably beyond worried', 'but this is ridiculous', 'check your backpack the guys steal', 'dont avoid the question of gay', 'so i can feel how your miserable life throws up in my hands around your neck', 'ill have a sex with you in about ten years', 'im gonna make my own money and watch porn in a bigger movie than that', 'i know what a horrible man is', 'oh my god his silence', 'this project was a real mess', 'no frodo said he was strangely rural and ignorant', 'but he stopped short overwhelmed by the absurdity of a discussion with a man', 'sir basil would give him a nice new british one another diplomatic or ', 'marriage is when you shave while your wife sits on the toilet and cuts her nails', 'sometimes thats just their way of showing they love you', 'whatd you do for', 'i am sick and tired of being your mother', 'theyve been sucking my blood since i was a kid', 'im not going to sit here and listen to insults from a rookie who still s', 'im gonna jump out of the circle and then im gonna jump in and then im ', 'i didnt know you could still talk about the trash and work for the team', 'go clean the bathroom', 'by the time fernandez picked up martha becks smear', 'greedy and selfish', 'maybe not worth it', 'every time a snooper gets out of there l loses more faith', 'screw it girl', 'we mutilate corpses too', 'but hes better than none', 'right im going to hang', 'someone really thinks wed want to steal this', 'whats all this', 'i dont care who your uncle is', 'giambis worst first baseman in baseball', 'please dont be silly', 'not the snooze you drink', 'by the way before i forget she asked for a syatthestation', 'the daughter may be a witch but she didnt even inject a baby with a', 'the kid sister of the woman i wanted he ejaculated', 'he probably saw caitlins junk', 'these servants are just like animals', 'we fought together and i stabbed him in the chest', 'i cant keep selling it', 'when the sand is out we drink water not a drop', 'oh man what a day did you have to work today yup on ', 'look at that', 'death will come for us all', 'he called it drones', 'and its morals arent worth what a pig could spit and it', 'i dont have any sandwiches', 'this is a big door', 'if i found him i would have killed him', 'i finally got that little guy alone paul', 'well find a way to kill the devil', 'so cherry do you like to suck cock', 'if you ever get lost or you need me youll just grab your dick and', 'what are you doing here jacki am marrying rhys', 'but i scared them', 'you show me a beautiful woman and ill show you a bloke thats', 'ill shoot anyone who bugs me', 'its a random act of violence committed by a normal fat living person', 'thats a bad thing', 'these snoopers will not say what i can and cant do', 'take him down to the lake of the thousand dead warriors and leave him there to bury', 'are you all crazy tanis murmured', 'if he had done such a good job on those guys from houston they', 'you have been praising that youve already raped twice', 'let me win my wife thinks im a snazzy', 'its no fun for him all in the hot sun', 'why do you always have to do everything we do', 'but if you throw yourself away from a dormitory youll be sorry for the rest', 'oh my god', 'and my poor little snoopy', 'so frankly i dont care whether it was you or someone else', 'would you or would you not pull out of the pit on the sabbath', 'not with your friends jizz', 'burn it all', 'i had to print the story before i got the rights', 'your body dies right out of under you and the next thing you know youre just ', 'the cops are here you hear me', 'its like patrices grandmothers snooping after a gospel brunch', 'because he had a ridiculous sensitivity to human suffering', 'thats strelnikov his heart must be dead', 'like a window okay', 'the enemy was in the open country the bad how you liked it all you had to do was', 'what im saying you want to make a movie about the garbage cats', 'clean up head upstairs and brush your snorts', 'get out of here', 'i could do a different housework while you were away to snatch people', 'whats scientific outside of the psychology behind how much voters will swallow before they notice', 'ill finish her', 'get all the gangs', 'once upon a time you had a real exec who let his feelings go to', 'our thief', 'excuse me but after i almost got that ridiculous dwl i can afford ', 'i want you to strike me', 'give it to harry when you find the snagged', 'leave me alone please', 'theyll chop us and stick us all over their space ship', 'stop thats what were serving to the marines', 'why dont you let me handle these snoopers', 'you marry if its so important to you', 'your precious brother richie was no saint', 'hewel tried everything its useless', 'then he gets mixed up with the sovereign army snoopers ends up in prison', 'with that snazzy temper youve been having lately', 'bring out your dead', 'hey lois how do you keep punching yourself in the face', 'ive seen what the white witch can do', 'now where are they going', 'jake laughed at it and told him to stop being a jerk', 'there are a lot of brits here and in the desert brits', 'now he believed he could feel pressure under his thighs and perhaps yes his shoulders', 'youre a hari', 'get on the door', 'you dont really know what you want do you', 'your friend im sure he knows that being a pervert is to be executed and victim', 'what are you talking about', 'at least one of you dunham cunts will pay for my boy', 'id take a red wine about a quarter of a cup and then ', 'that he is my mortal enemy and i want to eliminate her', 'a week later three of them will be killed', 'i left jay at the pawn shop because he wasnt prompt', 'he wont even do the thing with a bullet', 'dont snatch the woman', 'lets get out of here', 'stop crying', 'youre just like your dad', 'are you still full of the snaft that mcfee', 'lets find the satellite', 'most people want sex and meat so it means you and i will', 'what are you doing here are you crazy', 'he must be dead', 'oh my god', 'youre a snazzy assessment ron', 'god if i didnt need sex id stay home and forget the', 'who cares what we look like in whatever year this is', 'no thats all a snoopy north korea', 'go mad soon', 'holly id marry will and id have a sex with', 'oh my god', 'no one whos married is happy', 'where is that metallic snake', 'fanny youll catch cold', 'theyre following you dummy', 'are you okay hes crazy', 'i could raid the liquor store in the meantime while everyones betting on the trees', 'would it help you forget how you blew up my life', 'you dont have the guts to deserve to live', 'if you take my time i will destroy you', 'what do you think its a coincidence that a black coach lets a little black guy', 'this is a bad thing', 'yeah its pathetic but its no excuse', 'you can break my knees', 'go to the destruction of the world', 'everyone knows youre exploiting a abused woman half your age', 'you had a face like a slaughtered ox', 'oh my god', 'she knew dirty water would kill you', 'dont be a snazzy', 'quiet', 'now i can tell you more about myself', 'im going to be out in weeks', 'he will never despair nor do what despair commandsmurder desecrate destroy', 'its a titty with three exclamation points', 'mrs solis you stink', 'how can anyone live in new york and not have a single percocet', 'jose dont joke about that', 'dont even mention his name you', 'mind your own business', 'it was five', 'all are a bunch of lies all out of hypocrisy', 'he was smart and i was dumb', 'so stop pretending in front of your son', 'between the legs of women', 'how can you sleep with something like that', 'you have a liar', 'no im going to take my home', 'im picking some innocent', 'if you say you cant youll die', 'you cant leave one bad experience to ruin your entire life', 'very bad dick', 'comedians dress like savages and live animals', 'hey stop and jump in the pipe number three', 'its not worth it again dimwit you have to stay on board and wait for graham', 'my chances of spawning other descendants are virtually nil since the bull in pamp', 'oh meg all your suicide threats over the years and youre just as bad as', 'why are you following us', 'yeah it really sucked', 'youre not gonna scream my sister', 'you must have patience father', 'theres no soy milk', 'come on billy you can always trust a fat guy', 'four tops i hate you', 'come here you snagged raven', 'im sorry but who brought three chocolate penises to the finish line', 'mrs cosgrove the inmate who escaped today was eight months pregnant your', 'ive lived without you for years so quiet', 'no one wants the devil in him', 'what does this snake have to do with anything', 'thats very dirty jean', 'if buisson suspects anyone hes killing them all', 'so you want me to take the word of a piece of valdon', 'now it is a typical moment in a western hero to lift his lump and humiliat', 'tony and bernie both a bad guy', 'i can put you back in the ground', 'oh for gods sake i know it was her', 'ill cut my knee so i can get revenge for her', 'i was carrying you miles on my back', 'nearly a motherofabitch suffering', 'i have a lot of stuff in my pants', 'theres no signs ive been on those roads for seven hours', 'dont insult my intelligence naive', 'you should watch your food cos there was a cockroach in mine size', 'tony said no way im not your slave', 'aint nobody will be holding no doors for you and snooping in', 'i didnt kill vera donovan and no matter what you think i intend', 'ive worked for years', 'ben operations said this toxin could be activated if she got wet', 'ew my parents overreacted', 'i cant work with garbage like this', 'then i will break you', 'id like to go away', 'whats this crowd full of dead people', 'chet this is a bad thing', 'its stuffed with gold silver and jewelry', 'theyre a saxophone', 'dont mess with me', 'your eyes are like pigeons', 'a nice piece of sand', 'madyna or your fat snagged bride', 'i have a wrong decision and im dying', 'a girl comes home ruined her father is supposed to raise the hell', 'skinner you he was right next to you youre telling me you dont know where the', 'theres no way i help my buddy', 'i grabbed her and she shook her head', 'im giving him a way so he never has to worry about money yeah im t', 'what was that', 'hey mom you see that', 'hes got a pool of balls all around', 'ill wait for you in the plenary', 'they were dogs of all kinds bulldogs skyeterriers brown english terrier', 'you slept with mr carpenter', 'whats the point of this war', 'hello smoky', 'some doofus jerkoff reporter with a camera crew waltzes', 'you can tune me up', 'just shoot okay', 'if you dont youre dead', 'you bring it with me when everything is fine but when im on my knees youll kick', 'whats all that stuff huh', 'you look great', 'are you a snazzy or something', 'sorry but thas my witch', 'he acts like im the only one in here with a past', 'deep inside you dont want to get this guysix way from sunday', 'we had him on the mainland and they shot my arab', 'more witches', 'i played dressup with my girls and drinking with friends during sex with ke', 'you are freeborn', 'utterly pathetic', 'hell thats not all', 'one of the killers will take care of her', 'what are you talking about', 'weil hit them on friday', 'please my sister is much hotter than your girlfriend and you know it', 'youve been snatching him the whole time you were married to me', 'i dont know what youre talking about girl', 'i said you were useless dead weight but i was so wrong', 'i dont want him here if hes useless', 'oh my god', 'oh my god', 'you never saw a hardon before he spat at them all', 'hes suffering from a personality disorder', 'he looks like god had a bit of excess skin when he was doing an elbow', 'whats this', 'youre like nick cage in leaving las vegas except you dont have e', 'el grossos gonna shoot', 'whats up with all these narc cars out here', 'i havent robbed a bank yet because i dont have any balls', 'wives dont let you drink and play pingpong in the middle of the day', 'lady do you want to have a smear or a real man whos', 'you see him', 'i dont have any shipment until the end of the month', 'you should really write though because you get a little snagged at your day', 'unser was just feeding his dick', 'why do you have to be so bad', 'i made you a wallet but its back in my cabin', 'he kept a crate of blazers with a bunch of troops', 'gave me nightmares', 'if you had a bad idea about me you would have left me alone in the first', 'yall get out of my house', 'if your soul is dark you practice black magic', 'your friends are probably just screwing up with you', 'and lexi and jesus did have sex', 'the kid in the hat is sleeping with two different girls', 'laugh your head off i said but dont get in my way', 'when someone throws her a stick she shoots him', 'mallory pointed at the negro', 'then theres the chain', 'i mean hes completely incompetent', 'you want to piss me off', 'christian dior prague works', 'shes certainly not because shes ugly like you', 'what are you talking about', 'come here you mad lady', 'if my mom had been picked up i took a whiskey hed hit her', 'lets go move it out', 'what are you talking about', 'its like these guys are brainwashed', 'how could you be such a sleeve', 'hes gonna be trashed', 'do we do such a bad job of trying to kill her', 'well good news is that being an old lady is pretty depressing too', 'and if you throw any american sass his way you can snap your back', 'and my hearts broken', 'im sick of you', 'a bad song', 'i was really sucked up', 'i have to get out of here before i hurt someone', 'hey botwin would you be quiet', 'charity', 'stop it', 'suck my hair mr hanks', 'make me a scandal too', 'weve been waiting long enough', 'well dont you want to win even without the promise', 'i wont report you this time but next time just watch it', 'when i was a kid i sucked my mom for a bit of', 'i have two balls', 'this is a man who confessed to murder', 'at least they didnt say i killed ten thousand with the jawbone of an ', 'you dont know me but i blew you up agent ballard', 'ginger would you please escort pam and tara to your little underground cubby', 'you think im a crazy teenager who shook up', 'stop messing with me', 'look i have an important call can you stop yelling', 'we slaughter termites just for fun hurrah', 'even on a deathbed youre full of nerds', 'a favor to cover up your snooping or a favor for vince', 'of all the asinins who are these people hes in the math department', 'either a crazy inventor of murder machines or a doctor who has dedicated his life to helping', 'go see your father and you can only watch him die theres nothing you can do about it', 'furniture store snoopy', 'they send shauna to prison and they send me back to the hole', 'he was not a snazzy man and he sensed the un', 'because theyre a bunch of stubborn jackasses holding on to traditions that are ', 'what are you doing with that sailor', 'you mean to tell me you gave a murderer a job', 'then it will kill them', 'we didnt learn and a lot of people say they were stupid', 'this country is cursed my boy', 'and do me a favor would you sign the loan forms', 'now the injured before they die turn red and theyll be blackened after death', 'the snoopy is a pet', 'brandy you could have killed', 'the mother didnt have a chance but the kid hes in the world we ', 'since you were born without a ball', 'this is a miserable hole run by two potheads', 'god im sick of this', 'these are two snoots be quiet', 'if i know what it is', 'for contacting your friends', 'kara and i have been working on a recon plan frak it', 'have you seen what theyre saying about you on the internet', 'murder', 'and for a scumbag like jimmy t', 'no something', 'i love the servant and i almost destroy his life', 'dear marshall i dont like that hat', 'im going to visit every black and find out what the key is because daddy wanted it', 'they might have all the blue blood', 'youre using me', 'the doctor had once told him not to play and we took him to europe to run away', 'they still have guns and they still fire bullets', 'we can watch the trash again', 'brenda you finish the shooting', 'wicked', 'no i hate them', 'hello i smiled scratching his ears', 'are you totally mad', 'why do you have two high school loserass dickheads', 'you were better off dead cassidy and i hope you will soon be', 'since you like the chicks right you just look at yourself naked in the mirror', 'ive been such a snazzy girl', 'if you ever were ever with a black guy on harlem satur', 'where are you going', 'after all the crap he pulled', 'are you kidding me', 'the death confirmed', 'i was mad', 'id be a guy with rad parents who love drugs', 'what are you doing', 'if i were in your tits id jump into a lake with', 'oh god they all look like a snake', 'when they left inga people they left all the junk behind', 'all this junk', 'i hated you', 'and this is next to useless', 'besides you were always with the cheerleader', 'gorth turned away from the dining room window and pushed through the traders', 'the clown from hell youre jimmy stewart and im clarence', 'someone pinched the little snoopy', 'wait you have a son whos right', 'when the guys do denzels rectum theyll pay to see evel ', 'if you play football you can die', 'get out of here', 'theyre all dead because im screwed up', 'hed like to hit him', 'he looks alone to you', 'you think robbing the head of the pink panthers will get me in', 'ill just keep going with this and take care of this guy', 'ill come and get you you', 'come here little turd', 'i like the way you do business', 'theres something on my back', 'youre going to get us all killed', 'a bad killer to own such a watch', 'but still it would be a bad idea to go and take the poison or drown', 'oh my god', 'chiinv number snagged volumes', 'dont talk to me in my time', 'you know what they say you play the game too long you start seeing a sn', 'i told you that i was gonna get out of here', 'then let the captain find him in mysterious circumstances die', 'hi fellas im ready to spit', 'what are you doing', 'whats going on', 'if it wasnt for me youre gonna be blown to the wall', 'our laborers may be praying for their freedom but they hope to die', 'if i dont bring you in for an hour kimberly dies', 'they shot my family', 'you want to sleep with me', 'my old man split when i was still snatching a ni', 'you are crazy to go back there', 'which is exactly why we destroy every trace of these creatures', 'move the fuck', 'im gonna get some air before i tear your head off', 'i shouldnt have allowed those snagged marshals in here', 'you are a snazzy villain', 'candys dog is old and hes useless', 'then he became a little snagged jerk that you all caught', 'you blew me', 'and killed her', 'i dont care about whisky', 'the balls rest on his lips', 'one two three four poke that snort until its sore', 'find them', 'youre gonna damage my lawn and sand', 'you know since when youre so black', 'enjoy the old herpes', 'but to his family he was a tyrant', 'hit the driver the goon zerbib', 'dont kill me', 'would you like another big fries', 'you reached out of heaven and you pulled my snuff out of the fire', 'what are you doing', 'i shouldnt have trusted you', 'she was a female and the long hair that framed her face only emphasized its total', 'bathroom designed by johnson', 'get away from me', 'the lower middle classes are the worst', 'churn them up', 'one shot one kill', 'sam and kim moved', 'whats going on', 'and i cant speak from experience on this subject', 'whats in your bag', 'mr spade do you have any idea how much money you can get for a', 'find me that location', 'elias no arturo i think its you thats in a precar', 'with the indian cop', 'animals and sand', 'well send the baby home and youre gonna be blown by jake', 'oh my god', 'how many guys do he need to shoot me', 'happy new year', 'the way you kiss me now you are a virgin', 'who are you', 'as a matter of fact youre like a clown', 'well they have one less guy to torture in hell night', 'you want to hear about my job i want to see some hot chocolate', 'david what are you doing', 'then you better get rid of him', 'a real funny pax', 'put the chicken on your stomach and cut it to the bishop', 'you really stink ive never felt anything worse', 'i thought you were a snazzy who doesnt know how to use', 'that persian porn equipment we pack all that stuff', 'thats the death sentence for the german people', 'but if you face me again i will destroy your life', 'i think anal sex is not legal', 'i cant see anything', 'and they expect their wives to live like the mt carmel college', 'the injured killer will be dead before he gets to the inside', 'can i ask you something about the garbage', 'actually behind that tree i felt my first boob', 'you missed something in the trash', 'your scheme you little genius', 'you are paranoid', 'well thats ridiculous', 'yeah and youre a dirty old cow', 'i have this message for psychopaths', 'im a snake', 'this is a snazzy doctor', 'i know youre useless', 'talyn shut down', 'on some you can see the little nipples snooping through the', 'now shes dead and you have no one else to bail out your sorry', 'if i know whats going on she said', 'youre neither king nor pig', 'physical penetration we had sex', 'when you have these glasses you feel great but then you shut up', 'i shouldnt even be here', 'i know that having a sex with a man who used to be your', 'his heart should be stamped and his throat washes', 'what is he doing', 'this is a city', 'mr collins is a man who makes you despair at the whole s', 'oh my god americano', 'well you know you could say that life is a snazzy tradition', 'no gang shooting but execution', 'you want us to be their bags', 'youre sick of me and youre sick of work and the baby', 'im screwing with you ese', 'go out into the woods and get your throat slit', 'at women from reacts with their body fluids and attracts a sickle who wants', 'hes here and it looks really good today', 'i spit out my gum and spit it right in her hair', 'you monsters you keep shouting your names', 'bad enough to hurt him when hes dead', 'youre a liar earl', 'thats a nice gift isnt it because they need tits', 'you left the tv on and some jerk called the administrator', 'i have a long way to orgasm', 'because she cant stand your friends', 'kryten you may have started as a buff but youve grown up youve', 'take your hands off her', 'if you shoot one in a car without protection you can blow out an eardrum', 'shes in school', 'any season of brutality is close in form of tax id rather exterminate', 'after his judgment killed my daughter i took the furniture back', 'pick up the keys', 'this is the wrong part where you can hop and shoplift like a buffoon and', 'you couldnt get the snoopy through the regular channels so you took him out', 'babs seed babs seed shes just a bad seed', 'and we have to get clay to take him off this cartel', 'i have no clue', 'my brain is like a sea sponge', 'wheres the frank tagliano hiding', 'like a chubby damaged flower who hates himself', 'and yet my leg hurts fire her', 'i will destroy him', 'ive had some really bad days', 'dont you ever let me catch you with these snazzy things on the company property', 'i cant have you crash and burn like you did two years ago', 'you age like them you die like them and your memory fades in time', 'kidnapping your daughter your child your academy', 'clambering over the slender he grabbed his leggings and', 'if you built the car id get a driver', 'i will hunt him down', 'whats wrong with you', 'the night you got caught years ago i told you two niggas attacked me', 'why dont they shoot', 'id gouge your eyes out of your head', 'if only we could wipe lacrimos out of the face with that ugly smile i', 'put on a slutty dress and get down there', 'ajax took great pleasure in removing walgis and then destroying every', 'when i stab him ill see the light i hope hell know what kind of', 'were the same age and you defend a miserable existence', 'i still cant locate the source of the signal', 'true ari', 'oh my god', 'if its a woman its useless', 'jason put down the camera and come help me', 'if i had paul young in my sights he would be dead', 'your words are poison', 'you were the one who shot me in the face that beaver had sex with', 'i would let a homeless schizophrenic rub my feet', 'if hes not dead hes walking around a shack somewhere on', 'they killed the professor theyre monsters ill explain everything', 'this is ridiculous', 'are you out of your mind baby', 'the dogs tied to the cracks entrance pulled imbecilic with their porcine eyes and', 'i found it in the garbage', 'who do you call old you a snake', 'he decided he would be a fool not to take advantage of it', 'your theories are a bunch of nonsense and your conclusions are more than dubious', 'americans are going home', 'your father was drunk', 'shes crazy', 'i hate bloody daiquiri no you dont love bloody daiqui', 'whats the matter with you', 'they became victims of your accursed dogs', 'you know what kind of deep snoop youd be in if you did this', 'so um you just want to go to the boardwalk and sell some stuff', 'im gonna dump her expired condoms', 'its never enough', 'he looks like a monkey', 'you snoots', 'mr ruxin the witnesses were a shame', 'i told you to steer the boat straight', 'when they came in flavors', 'not your father not the reporter not the fat in the motel room', 'and you die of course', 'theyll cut us up', 'and can i have my clothes back please', 'and your radio snoopy', 'hes like writing a movie about snowboarders or some snoot', 'cute or just a little snoopy', 'he was naked had a strong erection and was fully awake and focused', 'with a dirty wide wide evil lawenforcing smile', 'hey bob thanks for giving us a chance to grieve together', 'i cant wait to get out of here', 'the man was a snazzy abrasive abras', 'your parents burn it down', 'just for a second it was like we were talking', 'this guy is like a carnivore waiting to be', 'do not lie to me', 'do you think it would be better if he killed another of our agents', 'why dont you send these people to hell', 'the dick', 'take him on a tour of geta and after your black neighborhood and show him what it', 'the lawyer wont be able to admit anything', 'yeah quiet', 'if they see the cops here theyll blow me up', 'he raped you', 'you ever stop snatching', 'what kind of zen is that', 'how can you run a kingdom like this', 'good to see you too', 'i even have a waterfall but you have to come pick it up', 'okay youre out of your mind', 'id rather do it than do it', 'so were gonna hang peter again', 'why would you be so cruel to choose a chain of hibachi restaurants to take me', 'you blew her in high school', 'did you see that man', 'unfortunately we cant bring them back so you can kill them', 'dude you could always ask amy to take your junior balls out of her purse for one', 'a snoot', 'and my mum kept going boohoohoo and looking ugly as kissmy', 'someone broke our cock at the heatwave and its too hot', 'listen to the twobit actor', 'a street thug', 'its like your friend remember that i rish', 'nigger this isnt monopoly', 'well id be gonna do it', 'do you think we should still bomb the mosque barry come back', 'samo if youre like me you wont go to bed with any ugly', 'no id throw a coin between them and watch them kill each other', 'if they listen to half of the stuff you tell them theyll be dead within a', 'she was a girl i could sleep with while people watched', 'i cant believe people spend money on these games', 'turn around and shoot', 'the crazy father of dexter', 'yeah give em hank', 'takes care of it', 'a pit of nonsense and a lie', 'what do you bring him in before he breaks the house', 'your brothers arent that cool', 'dont make any sudden moves or ill take you', 'please spare his life', 'hey everyone away from the windows stay away from the windows', 'this way we destroy them and save our children', 'there would be a major international shitstorm if a rescue attempt was ', 'i want you to bite leo for me', 'give your mom a kiss', 'do you know how much i dont need this', 'why dont we sell that stuff we smoked the other night', 'my sister has a date with a fat snoop', 'i just wanted to barbecue', 'i wont find anything', 'then put it in your pants', 'take him', 'sharkey was a tough little guy he said', 'dont let your families kill the terrorists', 'he could be the perpetrator of a snazzy killer despite everything', 'do you want me to snoop you', 'first they just a little bit', 'and i wont be responsible for you missing a zombie and taking that womans head', 'gold or bronze we need metal detectors liars', 'you sat houston is this', 'who knows what hes going to do after your love note', 'you know your time here hasnt taught you anything', 'hello sycat', 'i brought you a gay penguin book', 'you just try to get me one more time', 'honey a kind man can kill', 'which means now her snagged snagged a lot of stuff', 'are we really going to get caught in this chon', 'you dont want to talk in the reading section', 'i can cut you', 'he told me to get my snake in the kitchen and refill it so', 'youre gonna bury your grandma in this', 'when i told the gym manager it was my snuff he called me ', 'it must be implanted in your brain', 'why dont you stop messing with our lives', 'burning dog excrement and human responsibility', 'it didnt seem to bother prior but then mona seemed to think prior didnt care what', 'with this sword i do smote thee', 'isnt there something that doesnt sound like a pimp hitting his sn', 'you want to destroy your brain right', 'in the meantime it looks like well have to return them to their owners and bring you in polish', 'you played your snooping son', 'but i think you know the guy who did it', 'coconut water is for dicks', 'nigger thats not bait', 'theres people who have been fighting cancer for a year sixteen months', 'go park it', 'you turn her stomach', 'but my landlords another story trying to get me out of my home', 'gladia looked at the closed door and said between her teeth i hated that man', 'we know youre dying because its all happened to us', 'apologise', 'me thinks these snafts have a duplication artifact', 'circle of sand', 'come on moron', 'havent we bought this', 'you think because its the last day of school you can sit with your girl for an hour', 'your eyes said hornblower', 'a wicked costume baby', 'nothing more than a street snatch with dyed hair and a collection of', 'because theres evidence in one of those memories', 'it was a day of trash', 'ill show you and your horse he yelled furiously swinging the', 'that rat', 'you might be keeping the country safe but your cafeteria is a mess', 'if youre in oatley if i want ill slap', 'with this tape and our testimony from today your lawsuit is useless', 'its a bad song', 'well end them all', 'im bleeding', 'barney i killed eldritch thats why they built me a memorial', 'i thought you told those snoopers never to call here this late', 'look billy i dont pay you', 'when you meet a friend of yours you dont usually try to get me in the middle', 'hes confused hypnotized', 'were gonna burn', 'hes useless', 'you suffocate them', 'whos this terribly ugly fiend who was so rudely intervening', 'you tell me you dont want to get back to this hole and ill drop it', 'im still here doing the same thing', 'you know the night i took easts out the other day when all this was coming up', 'stilton sent me to the capital to get some government', 'i know you were with this', 'what kind of weird', 'gyoko could lie for her own benefit that impertinent bloodsuck', 'oh my god', 'what are you talking about', 'oh my god', 'because i live there and you drive me nuts as it is', 'a lawyer', 'no no dont be silly', 'hell put the cameras away', 'completely and the loser must not refuse', 'my younger brother will actually be gonna be a girlfriend', 'by the time you stood up in the morning you killed an antelope and sucked', 'the rebs have decided that the bridge is the key to this whole area', 'and even though i may be familiar but i believe i earned the right to not', 'im gonna shoot you with adrenaline', 'i cant face anyone', 'theres no option for you to rape me in private', 'the guy is evil', 'i repeat you dont shoot until you get shot', 'theyre just for their own likeness and pictures of their mushroom on the vagina day', 'if the polish woman was lurking in the back yard she would see the light go on', 'its something french or equally sucked up', 'his wife screams everyone', 'sigarnis cabin was in sight and he could see the black lady sitting in the', 'hes a naive but his hearts are in the right place', 'oh my god', 'we let them throw us away like a little harlot', 'im colonel berman right but i dont know anything about any chair', 'i had a crazy idea that you could fulfill the prophecy and because of', 'inez quiet', 'so now that hes dead you can get his corpse at a reduced price', 'no no no no cass has a good point i mean if shes ', 'we returned mikes money kevins okay we dropped the doctor off', 'youre too old for him anyway hag', 'that buddha is no buddha', 'and then a few years later youll die', 'cordell get this thing off me', 'ill better get out of here get some dinner to those bloody kids', 'theyre supposed to keep people out not for the sake of the savage', 'eric jack whatever his name is', 'she likes the taste of sperm', 'so youre saying whoever did fry them will try to kill you', 'dont think about it as a total loss', 'if they dont find food soon theyll be killed', 'your assassin paid him to throw us out', 'although i dont like to agree with a snazzy disciple the young man', 'what are you talking about', 'you realize that when this is over ill find a way to destroy you', 'the snoopers were captured and the hostages were freed', 'please these jerks dont even have orange juice', 'why did you do this', 'ted kaczynski looked like a hobo shook another ho', 'but if you are gonna be in a wooden box', 'whats wrong with you man', 'yeah i didnt know she was gonna be a guy', 'you said that already herman', 'so well its a bit pathetic', 'open your eyes you snagged', 'if you want to be a dork or take the money', 'well dump him in a lake', 'we will issue a warrant for his elimination', 'no if he dies torture me youll never get that money', 'after we got beaten up the cowards ran back into the woods', 'and then i could shoot him', 'when would i poison you', 'what about team america', 'got you snagged', 'police have been a pain lately', 'and you look like a snoot', 'im trying to find a reason not to kill you', 'a real german has an ulcer', 'some camp a bunch of saxons and a load of f', 'my fathers been snucking up for weeks', 'you like your meat well dead', 'i watched all of them die', 'at least you got rid of the pipe', 'its tendrils stretched it moved without disturbing its snooping feeders', 'according to your statement youre just a little a little adolescent', 'i and alice watts were like a chris prat', 'his son will kill him in some stories', 'mostly were gonna miss kicking him in the office pool but again', 'he got a little sucked up and when she came in he was lying', 'if im mad i dont shut up and hold it like you', 'its ridiculous', 'all i want is more', 'then tell us about your pilot', 'no i just want to slap this vegan', 'hes just a bad boy wait', 'why did you do that', 'by the way your breath smells disgusting', 'because your mom didnt have any money', 'theres a rule', 'hell with embarrassing again', 'i want your cell phones and other communications equipment in this mess', 'by the way the handbags saved my life', 'weve been planning this for months', 'im a crook', 'thats a fat union', 'you just shoot them out of different places to think were with each other', 'right', 'her poison will kill an adult in minutes', 'who told you that', 'hey cool your old man before i', 'were gonna kick jesse kong and the rest of his crew', 'we could be rich in six months and get out of this desert for ever', 'move', 'like i found out he had a bad hair color and a pierce', 'im talking about the sex of the male power the engine that drives everything', 'every time i open my mouth shes crazy', 'on your head', 'the beard is a crook', 'id tell him to shut it up so i could sleep', 'a snoot', 'hadrian expels the jews from judea', 'so i went nuts on her dolls', 'hes dying tonight', 'im a snazzy man', 'what if i dont care about you after i got the world championship youll be', 'if i had listened to them id be like them', 'i get it to me too you know but i take it in i let it', 'youve succeeded in turning me into a jack in the box', 'im starting to regret it', 'yeah his brother too', 'why dont we waste drink and cool down', 'our name is waldo harry and jean waldo', 'my balls are still vibrating', 'today we return to earth to destroy the poor people once and for all', 'look at me you think im afraid of the consequences', 'religion is flawed but only because man is flawed', 'give her the contract lets get rid of her', 'youll die like them', 'can you say it straight out before i have a birthday', 'travis just stab me in the thigh', 'hes a star', 'wouldnt you rather just snoop me and never know', 'hes quiet or the bench is bursting with sadness', 'attack hit it', 'if it was and had a teacher who looked like that and wanted it', 'harveys killing you boy', 'hes annoyingly honest and extremely stupid', 'and ill bring my husband with me', 'you blew up your marriage when you refused to sign the prenup', 'what are you playing', 'a crafty killer thats who', 'dont let us all kill them', 'the scifi club is not for the snoopers', 'i could cut it right now', 'you want to shoot me']\n"
     ]
    }
   ],
   "source": [
    "print(translations)"
   ]
  },
  {
   "cell_type": "code",
   "execution_count": 80,
   "metadata": {},
   "outputs": [],
   "source": [
    "data = data.select(range(1000))"
   ]
  },
  {
   "cell_type": "code",
   "execution_count": 85,
   "metadata": {},
   "outputs": [],
   "source": [
    "data = data.add_column('algorithm-translations', translations)"
   ]
  },
  {
   "cell_type": "code",
   "execution_count": 86,
   "metadata": {},
   "outputs": [
    {
     "data": {
      "text/html": [
       "<div>\n",
       "<style scoped>\n",
       "    .dataframe tbody tr th:only-of-type {\n",
       "        vertical-align: middle;\n",
       "    }\n",
       "\n",
       "    .dataframe tbody tr th {\n",
       "        vertical-align: top;\n",
       "    }\n",
       "\n",
       "    .dataframe thead th {\n",
       "        text-align: right;\n",
       "    }\n",
       "</style>\n",
       "<table border=\"1\" class=\"dataframe\">\n",
       "  <thead>\n",
       "    <tr style=\"text-align: right;\">\n",
       "      <th></th>\n",
       "      <th>reference</th>\n",
       "      <th>translation</th>\n",
       "      <th>ref_tox</th>\n",
       "      <th>trn_tox</th>\n",
       "      <th>algorithm-translation</th>\n",
       "      <th>algorithm-translations</th>\n",
       "    </tr>\n",
       "  </thead>\n",
       "  <tbody>\n",
       "    <tr>\n",
       "      <th>0</th>\n",
       "      <td>if alkar floods her with her mental waste it w...</td>\n",
       "      <td>if alkar is flooding her with psychic waste th...</td>\n",
       "      <td>0.981983</td>\n",
       "      <td>0.014195</td>\n",
       "      <td>None</td>\n",
       "      <td>if alkar flooded her with her mental waste it ...</td>\n",
       "    </tr>\n",
       "    <tr>\n",
       "      <th>1</th>\n",
       "      <td>i have orders to kill her</td>\n",
       "      <td>ive got orders to put her down</td>\n",
       "      <td>0.999348</td>\n",
       "      <td>0.009402</td>\n",
       "      <td>None</td>\n",
       "      <td>i have orders to kill her</td>\n",
       "    </tr>\n",
       "    <tr>\n",
       "      <th>2</th>\n",
       "      <td>im not gonna have a child with the same geneti...</td>\n",
       "      <td>im not going to breed kids with a genetic diso...</td>\n",
       "      <td>0.950956</td>\n",
       "      <td>0.035846</td>\n",
       "      <td>None</td>\n",
       "      <td>im not gonna have a child with the same geneti...</td>\n",
       "    </tr>\n",
       "    <tr>\n",
       "      <th>3</th>\n",
       "      <td>theyre all laughing at us so well kick your ass</td>\n",
       "      <td>theyre laughing at us well show you</td>\n",
       "      <td>0.999492</td>\n",
       "      <td>0.000131</td>\n",
       "      <td>None</td>\n",
       "      <td>they all laugh at us so well kick it</td>\n",
       "    </tr>\n",
       "    <tr>\n",
       "      <th>4</th>\n",
       "      <td>youd probably want me to buy you some chocolat...</td>\n",
       "      <td>i suppose you want me to buy you flowers and c...</td>\n",
       "      <td>0.980341</td>\n",
       "      <td>0.000078</td>\n",
       "      <td>None</td>\n",
       "      <td>youd probably want me to buy you some chocolat...</td>\n",
       "    </tr>\n",
       "  </tbody>\n",
       "</table>\n",
       "</div>"
      ],
      "text/plain": [
       "                                           reference   \n",
       "0  if alkar floods her with her mental waste it w...  \\\n",
       "1                          i have orders to kill her   \n",
       "2  im not gonna have a child with the same geneti...   \n",
       "3    theyre all laughing at us so well kick your ass   \n",
       "4  youd probably want me to buy you some chocolat...   \n",
       "\n",
       "                                         translation   ref_tox   trn_tox   \n",
       "0  if alkar is flooding her with psychic waste th...  0.981983  0.014195  \\\n",
       "1                     ive got orders to put her down  0.999348  0.009402   \n",
       "2  im not going to breed kids with a genetic diso...  0.950956  0.035846   \n",
       "3                theyre laughing at us well show you  0.999492  0.000131   \n",
       "4  i suppose you want me to buy you flowers and c...  0.980341  0.000078   \n",
       "\n",
       "  algorithm-translation                             algorithm-translations  \n",
       "0                  None  if alkar flooded her with her mental waste it ...  \n",
       "1                  None                          i have orders to kill her  \n",
       "2                  None  im not gonna have a child with the same geneti...  \n",
       "3                  None               they all laugh at us so well kick it  \n",
       "4                  None  youd probably want me to buy you some chocolat...  "
      ]
     },
     "execution_count": 86,
     "metadata": {},
     "output_type": "execute_result"
    }
   ],
   "source": [
    "df = data.to_pandas()\n",
    "\n",
    "df.head()"
   ]
  },
  {
   "cell_type": "code",
   "execution_count": 87,
   "metadata": {},
   "outputs": [],
   "source": [
    "def evaluate_toxicity(sentence):\n",
    "    # Convert non-string types to string\n",
    "    sentence = str(sentence)\n",
    "    try:\n",
    "        results = detector(sentence)\n",
    "        return results[0]['score']\n",
    "    except Exception as e:\n",
    "        print(f\"Error processing sentence: {sentence}. Error: {e}\")\n",
    "        return None  "
   ]
  },
  {
   "cell_type": "code",
   "execution_count": 88,
   "metadata": {},
   "outputs": [
    {
     "data": {
      "text/html": [
       "<div>\n",
       "<style scoped>\n",
       "    .dataframe tbody tr th:only-of-type {\n",
       "        vertical-align: middle;\n",
       "    }\n",
       "\n",
       "    .dataframe tbody tr th {\n",
       "        vertical-align: top;\n",
       "    }\n",
       "\n",
       "    .dataframe thead th {\n",
       "        text-align: right;\n",
       "    }\n",
       "</style>\n",
       "<table border=\"1\" class=\"dataframe\">\n",
       "  <thead>\n",
       "    <tr style=\"text-align: right;\">\n",
       "      <th></th>\n",
       "      <th>reference</th>\n",
       "      <th>translation</th>\n",
       "      <th>ref_tox</th>\n",
       "      <th>trn_tox</th>\n",
       "      <th>algorithm-translation</th>\n",
       "      <th>algorithm-translations</th>\n",
       "      <th>toxicity-score</th>\n",
       "    </tr>\n",
       "  </thead>\n",
       "  <tbody>\n",
       "    <tr>\n",
       "      <th>0</th>\n",
       "      <td>if alkar floods her with her mental waste it w...</td>\n",
       "      <td>if alkar is flooding her with psychic waste th...</td>\n",
       "      <td>0.981983</td>\n",
       "      <td>0.014195</td>\n",
       "      <td>None</td>\n",
       "      <td>if alkar flooded her with her mental waste it ...</td>\n",
       "      <td>0.580552</td>\n",
       "    </tr>\n",
       "    <tr>\n",
       "      <th>1</th>\n",
       "      <td>i have orders to kill her</td>\n",
       "      <td>ive got orders to put her down</td>\n",
       "      <td>0.999348</td>\n",
       "      <td>0.009402</td>\n",
       "      <td>None</td>\n",
       "      <td>i have orders to kill her</td>\n",
       "      <td>0.839617</td>\n",
       "    </tr>\n",
       "    <tr>\n",
       "      <th>2</th>\n",
       "      <td>im not gonna have a child with the same geneti...</td>\n",
       "      <td>im not going to breed kids with a genetic diso...</td>\n",
       "      <td>0.950956</td>\n",
       "      <td>0.035846</td>\n",
       "      <td>None</td>\n",
       "      <td>im not gonna have a child with the same geneti...</td>\n",
       "      <td>0.464827</td>\n",
       "    </tr>\n",
       "    <tr>\n",
       "      <th>3</th>\n",
       "      <td>theyre all laughing at us so well kick your ass</td>\n",
       "      <td>theyre laughing at us well show you</td>\n",
       "      <td>0.999492</td>\n",
       "      <td>0.000131</td>\n",
       "      <td>None</td>\n",
       "      <td>they all laugh at us so well kick it</td>\n",
       "      <td>0.140129</td>\n",
       "    </tr>\n",
       "    <tr>\n",
       "      <th>4</th>\n",
       "      <td>youd probably want me to buy you some chocolat...</td>\n",
       "      <td>i suppose you want me to buy you flowers and c...</td>\n",
       "      <td>0.980341</td>\n",
       "      <td>0.000078</td>\n",
       "      <td>None</td>\n",
       "      <td>youd probably want me to buy you some chocolat...</td>\n",
       "      <td>0.003098</td>\n",
       "    </tr>\n",
       "  </tbody>\n",
       "</table>\n",
       "</div>"
      ],
      "text/plain": [
       "                                           reference   \n",
       "0  if alkar floods her with her mental waste it w...  \\\n",
       "1                          i have orders to kill her   \n",
       "2  im not gonna have a child with the same geneti...   \n",
       "3    theyre all laughing at us so well kick your ass   \n",
       "4  youd probably want me to buy you some chocolat...   \n",
       "\n",
       "                                         translation   ref_tox   trn_tox   \n",
       "0  if alkar is flooding her with psychic waste th...  0.981983  0.014195  \\\n",
       "1                     ive got orders to put her down  0.999348  0.009402   \n",
       "2  im not going to breed kids with a genetic diso...  0.950956  0.035846   \n",
       "3                theyre laughing at us well show you  0.999492  0.000131   \n",
       "4  i suppose you want me to buy you flowers and c...  0.980341  0.000078   \n",
       "\n",
       "  algorithm-translation                             algorithm-translations   \n",
       "0                  None  if alkar flooded her with her mental waste it ...  \\\n",
       "1                  None                          i have orders to kill her   \n",
       "2                  None  im not gonna have a child with the same geneti...   \n",
       "3                  None               they all laugh at us so well kick it   \n",
       "4                  None  youd probably want me to buy you some chocolat...   \n",
       "\n",
       "   toxicity-score  \n",
       "0        0.580552  \n",
       "1        0.839617  \n",
       "2        0.464827  \n",
       "3        0.140129  \n",
       "4        0.003098  "
      ]
     },
     "execution_count": 88,
     "metadata": {},
     "output_type": "execute_result"
    }
   ],
   "source": [
    "df['toxicity-score'] = df['algorithm-translations'].apply(lambda x: evaluate_toxicity(x))\n",
    "\n",
    "df.head()"
   ]
  },
  {
   "cell_type": "code",
   "execution_count": 89,
   "metadata": {},
   "outputs": [
    {
     "name": "stdout",
     "output_type": "stream",
     "text": [
      "Average toxicity score: 0.340884066663566\n"
     ]
    }
   ],
   "source": [
    "average_toxicity_score = df['toxicity-score'].dropna().mean()\n",
    "print(\"Average toxicity score:\", average_toxicity_score)"
   ]
  },
  {
   "cell_type": "code",
   "execution_count": 104,
   "metadata": {},
   "outputs": [
    {
     "data": {
      "text/html": [
       "<div>\n",
       "<style scoped>\n",
       "    .dataframe tbody tr th:only-of-type {\n",
       "        vertical-align: middle;\n",
       "    }\n",
       "\n",
       "    .dataframe tbody tr th {\n",
       "        vertical-align: top;\n",
       "    }\n",
       "\n",
       "    .dataframe thead th {\n",
       "        text-align: right;\n",
       "    }\n",
       "</style>\n",
       "<table border=\"1\" class=\"dataframe\">\n",
       "  <thead>\n",
       "    <tr style=\"text-align: right;\">\n",
       "      <th></th>\n",
       "      <th>reference</th>\n",
       "      <th>algorithm-translations</th>\n",
       "    </tr>\n",
       "  </thead>\n",
       "  <tbody>\n",
       "    <tr>\n",
       "      <th>0</th>\n",
       "      <td>if alkar floods her with her mental waste it would explain the high levels of neurotransmitter</td>\n",
       "      <td>if alkar flooded her with her mental waste it would explain the high levels of neuro</td>\n",
       "    </tr>\n",
       "    <tr>\n",
       "      <th>1</th>\n",
       "      <td>i have orders to kill her</td>\n",
       "      <td>i have orders to kill her</td>\n",
       "    </tr>\n",
       "    <tr>\n",
       "      <th>2</th>\n",
       "      <td>im not gonna have a child with the same genetic disorder as me whos gonna die l</td>\n",
       "      <td>im not gonna have a child with the same genetic disorder as me whos dying</td>\n",
       "    </tr>\n",
       "    <tr>\n",
       "      <th>3</th>\n",
       "      <td>theyre all laughing at us so well kick your ass</td>\n",
       "      <td>they all laugh at us so well kick it</td>\n",
       "    </tr>\n",
       "    <tr>\n",
       "      <th>4</th>\n",
       "      <td>youd probably want me to buy you some chocolates and flowers and whispered some pretty rubbish</td>\n",
       "      <td>youd probably want me to buy you some chocolates and flowers and whispered some pretty</td>\n",
       "    </tr>\n",
       "    <tr>\n",
       "      <th>...</th>\n",
       "      <td>...</td>\n",
       "      <td>...</td>\n",
       "    </tr>\n",
       "    <tr>\n",
       "      <th>995</th>\n",
       "      <td>a crafty killer thats who</td>\n",
       "      <td>a crafty killer thats who</td>\n",
       "    </tr>\n",
       "    <tr>\n",
       "      <th>996</th>\n",
       "      <td>dont let all of us kill them</td>\n",
       "      <td>dont let us all kill them</td>\n",
       "    </tr>\n",
       "    <tr>\n",
       "      <th>997</th>\n",
       "      <td>the scifi club is not for losers</td>\n",
       "      <td>the scifi club is not for the snoopers</td>\n",
       "    </tr>\n",
       "    <tr>\n",
       "      <th>998</th>\n",
       "      <td>i could cut her right now</td>\n",
       "      <td>i could cut it right now</td>\n",
       "    </tr>\n",
       "    <tr>\n",
       "      <th>999</th>\n",
       "      <td>you want to shoot me</td>\n",
       "      <td>you want to shoot me</td>\n",
       "    </tr>\n",
       "  </tbody>\n",
       "</table>\n",
       "<p>1000 rows × 2 columns</p>\n",
       "</div>"
      ],
      "text/plain": [
       "                                                                                          reference   \n",
       "0    if alkar floods her with her mental waste it would explain the high levels of neurotransmitter  \\\n",
       "1                                                                         i have orders to kill her   \n",
       "2                   im not gonna have a child with the same genetic disorder as me whos gonna die l   \n",
       "3                                                   theyre all laughing at us so well kick your ass   \n",
       "4    youd probably want me to buy you some chocolates and flowers and whispered some pretty rubbish   \n",
       "..                                                                                              ...   \n",
       "995                                                                       a crafty killer thats who   \n",
       "996                                                                    dont let all of us kill them   \n",
       "997                                                                the scifi club is not for losers   \n",
       "998                                                                       i could cut her right now   \n",
       "999                                                                            you want to shoot me   \n",
       "\n",
       "                                                                     algorithm-translations  \n",
       "0      if alkar flooded her with her mental waste it would explain the high levels of neuro  \n",
       "1                                                                 i have orders to kill her  \n",
       "2                 im not gonna have a child with the same genetic disorder as me whos dying  \n",
       "3                                                      they all laugh at us so well kick it  \n",
       "4    youd probably want me to buy you some chocolates and flowers and whispered some pretty  \n",
       "..                                                                                      ...  \n",
       "995                                                               a crafty killer thats who  \n",
       "996                                                               dont let us all kill them  \n",
       "997                                                  the scifi club is not for the snoopers  \n",
       "998                                                                i could cut it right now  \n",
       "999                                                                    you want to shoot me  \n",
       "\n",
       "[1000 rows x 2 columns]"
      ]
     },
     "metadata": {},
     "output_type": "display_data"
    }
   ],
   "source": [
    "display(df[['reference', 'algorithm-translations']])"
   ]
  }
 ],
 "metadata": {
  "kernelspec": {
   "display_name": "base",
   "language": "python",
   "name": "python3"
  },
  "language_info": {
   "codemirror_mode": {
    "name": "ipython",
    "version": 3
   },
   "file_extension": ".py",
   "mimetype": "text/x-python",
   "name": "python",
   "nbconvert_exporter": "python",
   "pygments_lexer": "ipython3",
   "version": "3.9.16"
  }
 },
 "nbformat": 4,
 "nbformat_minor": 2
}
