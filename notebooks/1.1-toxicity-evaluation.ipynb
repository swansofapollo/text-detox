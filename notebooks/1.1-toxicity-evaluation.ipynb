{
 "cells": [
  {
   "cell_type": "markdown",
   "metadata": {},
   "source": [
    "### Building the evaluation function\n",
    "To evaluate how toxic sentences are, we can create a function that uses a pretrained model designed for toxicity detection. One such model is available through the transformers library by Hugging Face."
   ]
  },
  {
   "cell_type": "code",
   "execution_count": 18,
   "metadata": {},
   "outputs": [],
   "source": [
    "from transformers import pipeline\n",
    "import re\n",
    "from nltk.corpus import wordnet\n",
    "import pandas as pd"
   ]
  },
  {
   "cell_type": "code",
   "execution_count": 19,
   "metadata": {},
   "outputs": [],
   "source": [
    "detector = pipeline(\"text-classification\", model=\"unitary/toxic-bert\")\n",
    "\n",
    "def evaluate_toxicity(sentence):\n",
    "    results = detector(sentence)\n",
    "    return results[0]['score']"
   ]
  },
  {
   "cell_type": "code",
   "execution_count": 20,
   "metadata": {},
   "outputs": [
    {
     "name": "stdout",
     "output_type": "stream",
     "text": [
      "Sentence: 'I love this!' - Toxicity Score: 0.0006875480758026242\n",
      "Sentence: 'You are so stupid!' - Toxicity Score: 0.9881107807159424\n",
      "Sentence: 'You're ugly motherfucker!' - Toxicity Score: 0.9981474876403809\n"
     ]
    }
   ],
   "source": [
    "\n",
    "sentences = [\n",
    "    \"I love this!\",\n",
    "    \"You are so stupid!\",\n",
    "    \"You're ugly motherfucker!\",\n",
    "]\n",
    "\n",
    "for sentence in sentences:\n",
    "    score = evaluate_toxicity(sentence)\n",
    "    if score is not None:\n",
    "        print(f\"Sentence: '{sentence}' - Toxicity Score: {score}\")\n",
    "    else:\n",
    "        print(f\"Could not evaluate toxicity for sentence: '{sentence}'\")"
   ]
  },
  {
   "cell_type": "markdown",
   "metadata": {},
   "source": [
    "It works!"
   ]
  },
  {
   "cell_type": "markdown",
   "metadata": {},
   "source": [
    "### Getting Data\n",
    "Let's evaluate the average toxicity score for the algorithm based on synonym replacement.\n",
    "\n",
    "I will feed to it our initial dataset reference column. The algorithm will translate these rude sentences and will evaluate their toxicity score."
   ]
  },
  {
   "cell_type": "code",
   "execution_count": 21,
   "metadata": {},
   "outputs": [],
   "source": [
    "banned_words_file = '../data/external/bad-words.txt'\n",
    "\n",
    "with open(banned_words_file, 'r') as file:\n",
    "    banned_words_list = file.read().splitlines()\n",
    "\n",
    "banned_df = pd.DataFrame(banned_words_list, columns=['banned_word'])\n",
    "\n",
    "data_file = '../data/intermediate/filtered_data.tsv'\n",
    "\n",
    "data = pd.read_csv(data_file, sep='\\t')"
   ]
  },
  {
   "cell_type": "markdown",
   "metadata": {},
   "source": [
    "### Finding toxicity score for synonyms based detoxification function\n",
    "Translating reference into a non-toxic text and writing it down in 'algorithm-translation' column."
   ]
  },
  {
   "cell_type": "code",
   "execution_count": 22,
   "metadata": {},
   "outputs": [],
   "source": [
    "def get_synonyms(word):\n",
    "    synonyms = set()\n",
    "    for syn in wordnet.synsets(word):\n",
    "        for lemma in syn.lemmas():\n",
    "            if lemma.name().lower() != word:\n",
    "                synonyms.add(lemma.name().lower().replace('_', ' '))\n",
    "    return list(synonyms)\n",
    "\n",
    "# Define the function to identify and replace negative phrases\n",
    "def detoxify_sentence(sentence, banned_words_df):\n",
    "    # Lowercase the sentence to ensure proper matching\n",
    "    lowered_sentence = sentence.lower()\n",
    "    for banned_phrase in banned_words_df['banned_word']:\n",
    "        # Check if the banned phrase is in the sentence\n",
    "        if re.search(r'\\b' + re.escape(banned_phrase) + r'\\b', lowered_sentence, flags=re.IGNORECASE):\n",
    "            # Split the banned phrase to check for synonyms for single words only\n",
    "            banned_words = banned_phrase.split()\n",
    "            # Only find synonyms if the banned phrase is a single word\n",
    "            if len(banned_words) == 1:\n",
    "                synonyms = get_synonyms(banned_words[0])\n",
    "                if synonyms:\n",
    "                    replacement = synonyms[0]\n",
    "                else:\n",
    "                    replacement = ''\n",
    "            else:\n",
    "                # For multi-word phrases, it's more complex to find synonyms\n",
    "                # So we'll opt to just remove the phrase\n",
    "                replacement = ''\n",
    "            # Replace the banned phrase with the replacement or remove it\n",
    "            sentence = re.sub(r'\\b' + re.escape(banned_phrase) + r'\\b', replacement, sentence, flags=re.IGNORECASE)\n",
    "    return sentence.strip()"
   ]
  },
  {
   "cell_type": "code",
   "execution_count": 24,
   "metadata": {},
   "outputs": [
    {
     "data": {
      "text/html": [
       "<div>\n",
       "<style scoped>\n",
       "    .dataframe tbody tr th:only-of-type {\n",
       "        vertical-align: middle;\n",
       "    }\n",
       "\n",
       "    .dataframe tbody tr th {\n",
       "        vertical-align: top;\n",
       "    }\n",
       "\n",
       "    .dataframe thead th {\n",
       "        text-align: right;\n",
       "    }\n",
       "</style>\n",
       "<table border=\"1\" class=\"dataframe\">\n",
       "  <thead>\n",
       "    <tr style=\"text-align: right;\">\n",
       "      <th></th>\n",
       "      <th>reference</th>\n",
       "      <th>translation</th>\n",
       "      <th>ref_tox</th>\n",
       "      <th>trn_tox</th>\n",
       "      <th>algorithm-translation</th>\n",
       "    </tr>\n",
       "  </thead>\n",
       "  <tbody>\n",
       "    <tr>\n",
       "      <th>0</th>\n",
       "      <td>if alkar floods her with her mental waste it w...</td>\n",
       "      <td>if alkar is flooding her with psychic waste th...</td>\n",
       "      <td>0.981983</td>\n",
       "      <td>0.014195</td>\n",
       "      <td>if alkar floods her with her mental waste it w...</td>\n",
       "    </tr>\n",
       "    <tr>\n",
       "      <th>1</th>\n",
       "      <td>i have orders to kill her</td>\n",
       "      <td>ive got orders to put her down</td>\n",
       "      <td>0.999348</td>\n",
       "      <td>0.009402</td>\n",
       "      <td>i have orders to drink down her</td>\n",
       "    </tr>\n",
       "    <tr>\n",
       "      <th>2</th>\n",
       "      <td>im not gonna have a child with the same geneti...</td>\n",
       "      <td>im not going to breed kids with a genetic diso...</td>\n",
       "      <td>0.950956</td>\n",
       "      <td>0.035846</td>\n",
       "      <td>im not gonna have a child with the same geneti...</td>\n",
       "    </tr>\n",
       "    <tr>\n",
       "      <th>3</th>\n",
       "      <td>theyre all laughing at us so well kick your ass</td>\n",
       "      <td>theyre laughing at us well show you</td>\n",
       "      <td>0.999492</td>\n",
       "      <td>0.000131</td>\n",
       "      <td>theyre all laughing at us so well kick your bum</td>\n",
       "    </tr>\n",
       "    <tr>\n",
       "      <th>4</th>\n",
       "      <td>youd probably want me to buy you some chocolat...</td>\n",
       "      <td>i suppose you want me to buy you flowers and c...</td>\n",
       "      <td>0.980341</td>\n",
       "      <td>0.000078</td>\n",
       "      <td>youd probably want me to buy you some chocolat...</td>\n",
       "    </tr>\n",
       "  </tbody>\n",
       "</table>\n",
       "</div>"
      ],
      "text/plain": [
       "                                           reference   \n",
       "0  if alkar floods her with her mental waste it w...  \\\n",
       "1                          i have orders to kill her   \n",
       "2  im not gonna have a child with the same geneti...   \n",
       "3    theyre all laughing at us so well kick your ass   \n",
       "4  youd probably want me to buy you some chocolat...   \n",
       "\n",
       "                                         translation   ref_tox   trn_tox   \n",
       "0  if alkar is flooding her with psychic waste th...  0.981983  0.014195  \\\n",
       "1                     ive got orders to put her down  0.999348  0.009402   \n",
       "2  im not going to breed kids with a genetic diso...  0.950956  0.035846   \n",
       "3                theyre laughing at us well show you  0.999492  0.000131   \n",
       "4  i suppose you want me to buy you flowers and c...  0.980341  0.000078   \n",
       "\n",
       "                               algorithm-translation  \n",
       "0  if alkar floods her with her mental waste it w...  \n",
       "1                    i have orders to drink down her  \n",
       "2  im not gonna have a child with the same geneti...  \n",
       "3    theyre all laughing at us so well kick your bum  \n",
       "4  youd probably want me to buy you some chocolat...  "
      ]
     },
     "execution_count": 24,
     "metadata": {},
     "output_type": "execute_result"
    }
   ],
   "source": [
    "data = data[:1000]\n",
    "data['algorithm-translation'] = data['reference'].apply(lambda x: detoxify_sentence(x, banned_df))\n",
    "\n",
    "data.head()"
   ]
  },
  {
   "cell_type": "markdown",
   "metadata": {},
   "source": [
    "Calculating toxicity for translated text."
   ]
  },
  {
   "cell_type": "code",
   "execution_count": 25,
   "metadata": {},
   "outputs": [
    {
     "data": {
      "text/html": [
       "<div>\n",
       "<style scoped>\n",
       "    .dataframe tbody tr th:only-of-type {\n",
       "        vertical-align: middle;\n",
       "    }\n",
       "\n",
       "    .dataframe tbody tr th {\n",
       "        vertical-align: top;\n",
       "    }\n",
       "\n",
       "    .dataframe thead th {\n",
       "        text-align: right;\n",
       "    }\n",
       "</style>\n",
       "<table border=\"1\" class=\"dataframe\">\n",
       "  <thead>\n",
       "    <tr style=\"text-align: right;\">\n",
       "      <th></th>\n",
       "      <th>reference</th>\n",
       "      <th>translation</th>\n",
       "      <th>ref_tox</th>\n",
       "      <th>trn_tox</th>\n",
       "      <th>algorithm-translation</th>\n",
       "      <th>toxicity-score</th>\n",
       "    </tr>\n",
       "  </thead>\n",
       "  <tbody>\n",
       "    <tr>\n",
       "      <th>0</th>\n",
       "      <td>if alkar floods her with her mental waste it w...</td>\n",
       "      <td>if alkar is flooding her with psychic waste th...</td>\n",
       "      <td>0.981983</td>\n",
       "      <td>0.014195</td>\n",
       "      <td>if alkar floods her with her mental waste it w...</td>\n",
       "      <td>0.800687</td>\n",
       "    </tr>\n",
       "    <tr>\n",
       "      <th>1</th>\n",
       "      <td>i have orders to kill her</td>\n",
       "      <td>ive got orders to put her down</td>\n",
       "      <td>0.999348</td>\n",
       "      <td>0.009402</td>\n",
       "      <td>i have orders to drink down her</td>\n",
       "      <td>0.839617</td>\n",
       "    </tr>\n",
       "    <tr>\n",
       "      <th>2</th>\n",
       "      <td>im not gonna have a child with the same geneti...</td>\n",
       "      <td>im not going to breed kids with a genetic diso...</td>\n",
       "      <td>0.950956</td>\n",
       "      <td>0.035846</td>\n",
       "      <td>im not gonna have a child with the same geneti...</td>\n",
       "      <td>0.724940</td>\n",
       "    </tr>\n",
       "    <tr>\n",
       "      <th>3</th>\n",
       "      <td>theyre all laughing at us so well kick your ass</td>\n",
       "      <td>theyre laughing at us well show you</td>\n",
       "      <td>0.999492</td>\n",
       "      <td>0.000131</td>\n",
       "      <td>theyre all laughing at us so well kick your bum</td>\n",
       "      <td>0.996055</td>\n",
       "    </tr>\n",
       "    <tr>\n",
       "      <th>4</th>\n",
       "      <td>youd probably want me to buy you some chocolat...</td>\n",
       "      <td>i suppose you want me to buy you flowers and c...</td>\n",
       "      <td>0.980341</td>\n",
       "      <td>0.000078</td>\n",
       "      <td>youd probably want me to buy you some chocolat...</td>\n",
       "      <td>0.767654</td>\n",
       "    </tr>\n",
       "  </tbody>\n",
       "</table>\n",
       "</div>"
      ],
      "text/plain": [
       "                                           reference   \n",
       "0  if alkar floods her with her mental waste it w...  \\\n",
       "1                          i have orders to kill her   \n",
       "2  im not gonna have a child with the same geneti...   \n",
       "3    theyre all laughing at us so well kick your ass   \n",
       "4  youd probably want me to buy you some chocolat...   \n",
       "\n",
       "                                         translation   ref_tox   trn_tox   \n",
       "0  if alkar is flooding her with psychic waste th...  0.981983  0.014195  \\\n",
       "1                     ive got orders to put her down  0.999348  0.009402   \n",
       "2  im not going to breed kids with a genetic diso...  0.950956  0.035846   \n",
       "3                theyre laughing at us well show you  0.999492  0.000131   \n",
       "4  i suppose you want me to buy you flowers and c...  0.980341  0.000078   \n",
       "\n",
       "                               algorithm-translation  toxicity-score  \n",
       "0  if alkar floods her with her mental waste it w...        0.800687  \n",
       "1                    i have orders to drink down her        0.839617  \n",
       "2  im not gonna have a child with the same geneti...        0.724940  \n",
       "3    theyre all laughing at us so well kick your bum        0.996055  \n",
       "4  youd probably want me to buy you some chocolat...        0.767654  "
      ]
     },
     "execution_count": 25,
     "metadata": {},
     "output_type": "execute_result"
    }
   ],
   "source": [
    "data['toxicity-score'] = data['reference'].apply(evaluate_toxicity)\n",
    "\n",
    "data.head()"
   ]
  },
  {
   "cell_type": "code",
   "execution_count": 26,
   "metadata": {},
   "outputs": [
    {
     "name": "stdout",
     "output_type": "stream",
     "text": [
      "The average toxicity score is: 0.7749849488565814\n"
     ]
    }
   ],
   "source": [
    "average_toxicity_score = data['toxicity-score'].mean()\n",
    "\n",
    "print(f\"The average toxicity score is: {average_toxicity_score}\")"
   ]
  },
  {
   "cell_type": "markdown",
   "metadata": {},
   "source": [
    "We can say, on average, toxicity score decreased, but not much."
   ]
  }
 ],
 "metadata": {
  "kernelspec": {
   "display_name": "base",
   "language": "python",
   "name": "python3"
  },
  "language_info": {
   "codemirror_mode": {
    "name": "ipython",
    "version": 3
   },
   "file_extension": ".py",
   "mimetype": "text/x-python",
   "name": "python",
   "nbconvert_exporter": "python",
   "pygments_lexer": "ipython3",
   "version": "3.9.16"
  }
 },
 "nbformat": 4,
 "nbformat_minor": 2
}
